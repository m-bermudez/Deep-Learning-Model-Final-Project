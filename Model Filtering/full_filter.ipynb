{
 "cells": [
  {
   "cell_type": "markdown",
   "id": "87ab8610",
   "metadata": {},
   "source": [
    "# Data Cleaning\n",
    "This Jupyter Notebook handles ingestion of the Unstructured Notes in the \"MIMIC-III Clinical Database\" dateset. Specifically, it combs through the noteevents.csv, matches SUBJECT_ID between the \"Curated Data for Describing Blood Glucose\" datasets and then starts filtering and extracting diabetes specific keywords that are outlined below. Once these \"SUBJECT_IDs, HADM_IDs (Hospital Admissions), TEXTS\" are filtered and extracted, it then assigns this information to a .JSONL file, specifically [filtered_diabetes_notes_dask.jsonl]. We are then able to utilize this file to begin fine-tuning our imported BioBERT model, as we will utilize this BioBERT model on the \"MIMIC-IV Clinical Database\" dataset. Once fine-tuned on our diabetic specific data, we can generate \"ground truth\" summaries that we can utilize to compare against summaries generated from the MIMIC-III dataset (generated with a BART). The BART summaries will be trained against the BioBERT model and after sufficient training and fine-tuning, we will then begin summary generation of notes that are tied to anomalies detected with the RAE model we are utilizing. "
   ]
  },
  {
   "cell_type": "code",
   "execution_count": 1,
   "id": "dde5d5e0",
   "metadata": {},
   "outputs": [
    {
     "name": "stderr",
     "output_type": "stream",
     "text": [
      "/home/maurb/miniconda3/envs/safeenv/lib/python3.10/site-packages/tqdm/auto.py:21: TqdmWarning: IProgress not found. Please update jupyter and ipywidgets. See https://ipywidgets.readthedocs.io/en/stable/user_install.html\n",
      "  from .autonotebook import tqdm as notebook_tqdm\n"
     ]
    },
    {
     "data": {
      "text/plain": [
       "<dask.config.set at 0x7f3e97398ee0>"
      ]
     },
     "execution_count": 1,
     "metadata": {},
     "output_type": "execute_result"
    }
   ],
   "source": [
    "import os\n",
    "import dask\n",
    "import dask.dataframe as dd\n",
    "import pandas as pd\n",
    "import nltk\n",
    "import torch\n",
    "import textwrap\n",
    "from nltk.tokenize.punkt import PunktSentenceTokenizer, PunktParameters\n",
    "from sentence_transformers import SentenceTransformer, util\n",
    "from dask.diagnostics import ProgressBar\n",
    "\n",
    "# ⚙️ Control threading to reduce memory pressure\n",
    "os.environ[\"OMP_NUM_THREADS\"] = \"1\"\n",
    "os.environ[\"MKL_NUM_THREADS\"] = \"1\"\n",
    "os.environ[\"TOKENIZERS_PARALLELISM\"] = \"false\"\n",
    "\n",
    "# ⚙️ Thread-based Dask scheduler is safer with PyTorch\n",
    "dask.config.set(scheduler='threads')"
   ]
  },
  {
   "cell_type": "code",
   "execution_count": 2,
   "id": "1f0debca",
   "metadata": {},
   "outputs": [
    {
     "name": "stderr",
     "output_type": "stream",
     "text": [
      "[nltk_data] Downloading package punkt to /home/maurb/nltk_data...\n",
      "[nltk_data]   Package punkt is already up-to-date!\n"
     ]
    },
    {
     "name": "stdout",
     "output_type": "stream",
     "text": [
      "📟 Using device: cuda\n"
     ]
    }
   ],
   "source": [
    "nltk.download('punkt')\n",
    "\n",
    "# Manually initialize tokenizer to avoid punkt_tab bug\n",
    "punkt_params = PunktParameters()\n",
    "tokenizer = PunktSentenceTokenizer(punkt_params)\n",
    "\n",
    "sent_tokenize = tokenizer.tokenize\n",
    "\n",
    "# ✅ Select device (GPU if available)\n",
    "device = \"cuda\" if torch.cuda.is_available() else \"cpu\"\n",
    "print(f\"📟 Using device: {device}\")\n",
    "\n",
    "# Load sentence embedding model onto device\n",
    "model = SentenceTransformer(\"all-MiniLM-L6-v2\", device=device)\n",
    "\n",
    "# Diabetes-related reference terms\n",
    "diabetes_terms = [\n",
    "    \"diabetes\", \"diabetic\", \"DM1\", \"DM Type 1\", \"DM Type I\", \"type 1 diabetes\", \"type 2 diabetes\",\n",
    "    \"diabetes diagnosis\", \"DKA\", \"ketoacidosis\", \"DKA history\", \"DKA episode\", \"DKA resolved\", \"DKA management\",\n",
    "    \"hyperglycemia\", \"hypoglycemia\", \"hyperglycemia treatment\",\n",
    "    \"polyuria\", \"polydipsia\", \"polyphagia\", \"HPI\", \"blood sugar\", \"blood sugar control\",\n",
    "    \"glucose\", \"glucose-\", \"FS=\", \"FS:\", \"FS-\", \"FS(\", \"HbA1C\",\"HgbA1C\", \"HgA1C\", \"a1c\", \"A1C test results\",\n",
    "    \"ketone\", \"anion gap\", \"bicarbonate\", \"blood glucose\", \"blood sugars\",\n",
    "    \"insulin\", \"insulin therapy\", \"Lantus\", \"Novalog\", \"Humalog\",\n",
    "    \"sliding scale\", \"sliding scale insulin\", \"subcutaneously\", \"insulin drip\", \"insulin gtt\", \"insulin sliding scale\", \"amp D50\",\n",
    "    \"carbohydrate\", \"diabetic diet\", \"glucose control, long acting insulin, short acting insulin, intermediate acting insulin\"\n",
    "]\n",
    "\n",
    "# Precompute reference embeddings on device\n",
    "ref_embeds = model.encode(diabetes_terms, convert_to_tensor=True, device=device)\n",
    "\n",
    "# Native chunking to avoid external dependency\n",
    "def chunked(seq, size):\n",
    "    for i in range(0, len(seq), size):\n",
    "        yield seq[i:i + size]"
   ]
  },
  {
   "cell_type": "code",
   "execution_count": 3,
   "id": "25799407",
   "metadata": {},
   "outputs": [],
   "source": [
    "# Load glucose-insulin dataset\n",
    "df_glucose = pd.read_csv(\n",
    "    \"curated-data-for-describing-blood-glucose-management-in-the-intensive-care-unit-1.0.1/Datasets/glucose_insulin_ICU.csv\",\n",
    "    dtype={'SUBJECT_ID': str, 'HADM_ID': str}\n",
    ")\n",
    "glucose_ids = set(df_glucose[\"SUBJECT_ID\"])\n",
    "\n",
    "# Clean NOTEEVENTS with pandas first\n",
    "df_cleaned = pd.read_csv(\n",
    "    \"mimic-iii-clinical-database-1.4/NOTEEVENTS.csv\",\n",
    "    dtype=str,\n",
    "    on_bad_lines='skip',\n",
    "    engine='python'\n",
    ")\n",
    "df_cleaned.to_csv(\"clean_NOTEEVENTS.csv\", index=False)\n",
    "\n",
    "# Load with Dask\n",
    "ddf = dd.read_csv(\n",
    "    \"clean_NOTEEVENTS.csv\",\n",
    "    dtype=str,\n",
    "    blocksize=\"100MB\",\n",
    "    assume_missing=True,\n",
    "    on_bad_lines='skip',\n",
    "    engine='python'\n",
    ")\n",
    "ddf.columns = ddf.columns.str.strip('\"')\n",
    "\n",
    "# Filter for valid TEXT and SUBJECT_ID\n",
    "ddf = ddf.dropna(subset=[\"TEXT\"])\n",
    "ddf = ddf[ddf[\"SUBJECT_ID\"].isin(glucose_ids)]\n",
    "\n",
    "# Persist to memory\n",
    "ddf = ddf.persist()"
   ]
  },
  {
   "cell_type": "code",
   "execution_count": 4,
   "id": "24975151",
   "metadata": {},
   "outputs": [],
   "source": [
    "# Filtering function using SentenceTransformer and cosine sim\n",
    "import traceback\n",
    "\n",
    "\n",
    "def extract_matches(note_text):\n",
    "    try:\n",
    "        if not isinstance(note_text, str):\n",
    "            return []\n",
    "        \n",
    "        sentences = sent_tokenize(note_text)\n",
    "        candidates = [s for s in sentences if any(term.lower() in s.lower() for term in diabetes_terms)]\n",
    "        if not candidates:\n",
    "            return []\n",
    "\n",
    "        matches = []\n",
    "        for chunk in chunked(candidates, 16):  # Keep batch size small\n",
    "            embs = model.encode(chunk, convert_to_tensor=True, device=device)\n",
    "            sims = util.cos_sim(embs, ref_embeds)\n",
    "            scores = torch.max(sims, dim=1).values\n",
    "            matches.extend([(s, round(score.item(), 3)) for s, score in zip(chunk, scores) if score > 0.5])\n",
    "\n",
    "        return matches\n",
    "    except Exception:\n",
    "        traceback.print_exc()\n",
    "        return []\n",
    "\n",
    "# Dask-compatible wrapper\n",
    "def extract_partition(part):\n",
    "    part[\"DIABETES_MATCHES\"] = part[\"TEXT\"].apply(extract_matches)\n",
    "    return part\n",
    "\n",
    "# 1. Prepare meta that includes the new column\n",
    "meta = ddf._meta.copy()\n",
    "meta[\"DIABETES_MATCHES\"] = object\n",
    "\n",
    "# 2. Apply the matching function across partitions\n",
    "ddf = ddf.map_partitions(extract_partition, meta=meta)\n",
    "\n",
    "# 3. Now safely filter based on the new column\n",
    "ddf_filtered = ddf[ddf[\"DIABETES_MATCHES\"].map(lambda x: len(x) > 0, meta=(\"filter\", bool))]"
   ]
  },
  {
   "cell_type": "code",
   "execution_count": 5,
   "id": "59547335",
   "metadata": {},
   "outputs": [
    {
     "name": "stdout",
     "output_type": "stream",
     "text": [
      "⚙️ Computing full filtered results...\n",
      "[########################################] | 100% Completed | 17m 28ss\n"
     ]
    }
   ],
   "source": [
    "# Compute and save\n",
    "print(\"⚙️ Computing full filtered results...\")\n",
    "with ProgressBar():\n",
    "    df_result = ddf_filtered[[\"SUBJECT_ID\", \"HADM_ID\", \"DIABETES_MATCHES\"]].compute()\n",
    "\n",
    "# 💾 Save to disk\n",
    "df_result.to_json(\"filtered_diabetes_notes_dask.jsonl\", orient=\"records\", lines=True)"
   ]
  },
  {
   "cell_type": "code",
   "execution_count": 6,
   "id": "281cc09e",
   "metadata": {},
   "outputs": [
    {
     "name": "stdout",
     "output_type": "stream",
     "text": [
      "✅ Preview from full filtered output:\n",
      "\n",
      "[score=0.673] Hyperglycemia:  Patient was placed on insulin-sliding scale due to hyperglycemia, which was steroid\n",
      "induced.\n",
      "========================================================================================================================\n",
      "[score=0.549] This worked quite well and her glucose came back to normal levels once the steroids were tapered to\n",
      "off.\n",
      "========================================================================================================================\n"
     ]
    }
   ],
   "source": [
    "# Preview\n",
    "if not df_result.empty:\n",
    "    print(\"✅ Preview from full filtered output:\\n\")\n",
    "    for sent, score in df_result[\"DIABETES_MATCHES\"].iloc[0]:\n",
    "        print(f\"[score={score}] {textwrap.fill(sent, width=100)}\")\n",
    "        print(\"=\" * 120)\n",
    "else:\n",
    "    print(\"⚠️ No diabetes-relevant notes found.\")"
   ]
  },
  {
   "cell_type": "markdown",
   "id": "b7567884",
   "metadata": {},
   "source": [
    "## Debugging section"
   ]
  },
  {
   "cell_type": "code",
   "execution_count": 7,
   "id": "f2682c1d",
   "metadata": {},
   "outputs": [],
   "source": [
    "# # 🧪 Small-scale test on ~1000 rows from first partition\n",
    "# print(\"🔍 Running preview compute on ~1000 rows from first partition...\")\n",
    "\n",
    "# sample_ddf = ddf.partitions[0].head(1000, compute=True)\n",
    "# sample_ddf_filtered = sample_ddf[sample_ddf[\"DIABETES_MATCHES\"].map(lambda x: len(x) > 0)]\n",
    "\n",
    "# if not sample_ddf_filtered.empty:\n",
    "#     print(\"✅ Preview from sample filtered notes:\\n\")\n",
    "#     for sent, score in sample_ddf_filtered[\"DIABETES_MATCHES\"].iloc[0]:\n",
    "#         print(f\"[score={score}] {textwrap.fill(sent, width=100)}\")\n",
    "#         print(\"=\" * 120)\n",
    "# else:\n",
    "#     print(\"⚠️ No diabetes-relevant notes found in sample.\")"
   ]
  },
  {
   "cell_type": "code",
   "execution_count": 8,
   "id": "a426947a",
   "metadata": {},
   "outputs": [],
   "source": [
    "# # Should show a nonzero number\n",
    "# shared_ids = set(ddf[\"SUBJECT_ID\"].compute()) & glucose_ids\n",
    "# print(f\"🔗 SUBJECT_IDs shared between datasets: {len(shared_ids)}\")"
   ]
  },
  {
   "cell_type": "code",
   "execution_count": 9,
   "id": "36f10357",
   "metadata": {},
   "outputs": [],
   "source": [
    "# # Pull a note from SUBJECT_ID \"11861\"\n",
    "# note_df = ddf[ddf[\"SUBJECT_ID\"] == \"11861\"].compute()\n",
    "\n",
    "# if note_df.empty:\n",
    "#     print(\"❌ No notes found for SUBJECT_ID 11861.\")\n",
    "# else:\n",
    "#     # Display basic info\n",
    "#     print(f\"🧾 Found {len(note_df)} note(s) for SUBJECT_ID 11861.\")\n",
    "    \n",
    "#     note_text = note_df.iloc[0][\"TEXT\"]\n",
    "#     print(\"\\n📝 Sample TEXT preview:\\n\")\n",
    "#     print(textwrap.fill(note_text[:1000], width=100))\n",
    "\n",
    "#     # Run extract_matches\n",
    "#     print(\"\\n🔍 Matching diabetes-related sentences:\\n\")\n",
    "#     matches = extract_matches(note_text)\n",
    "\n",
    "#     if matches:\n",
    "#         for sent, score in matches:\n",
    "#             print(f\"[score={score}] {textwrap.fill(sent, width=100)}\")\n",
    "#             print(\"-\" * 120)\n",
    "#     else:\n",
    "#         print(\"⚠️ No matches found — consider lowering score threshold or revisiting diabetes_terms.\")\n"
   ]
  }
 ],
 "metadata": {
  "kernelspec": {
   "display_name": "safeenv",
   "language": "python",
   "name": "python3"
  },
  "language_info": {
   "codemirror_mode": {
    "name": "ipython",
    "version": 3
   },
   "file_extension": ".py",
   "mimetype": "text/x-python",
   "name": "python",
   "nbconvert_exporter": "python",
   "pygments_lexer": "ipython3",
   "version": "3.10.16"
  }
 },
 "nbformat": 4,
 "nbformat_minor": 5
}
